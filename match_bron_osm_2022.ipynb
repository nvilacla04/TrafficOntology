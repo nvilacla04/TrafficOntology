{
 "cells": [
  {
   "cell_type": "markdown",
   "id": "d14c5c44",
   "metadata": {},
   "source": [
    "# Matching BRON accidents to OSM roads (2022)\n",
    "\n",
    "This notebook demonstrates how to load BRON accident data for the year 2022, match each accident location to the nearest OSM road segment with the same street name, and enrich the accidents with attributes from the corresponding road segments. The enriched data is saved to a CSV file.\n",
    "\n",
    "You can adjust the file paths in the code cells below to point to your own datasets. The default paths are set for a Windows environment. Replace them with your own if necessary."
   ]
  },
  {
   "cell_type": "code",
   "execution_count": null,
   "id": "4340ed09",
   "metadata": {},
   "outputs": [],
   "source": [
    "import pandas as pd\n",
    "import geopandas as gpd\n",
    "from shapely.geometry import Point\n",
    "import re\n",
    "from tqdm.notebook import tqdm\n",
    "\n",
    "def parse_hstore(hstore_string):\n",
    "    if hstore_string is None:\n",
    "        return {}\n",
    "    try:\n",
    "        return dict(re.findall(r'\"(.*?)\"=>\"(.*?)\"', hstore_string))\n",
    "    except Exception:\n",
    "        return {}\n"
   ]
  },
  {
   "cell_type": "code",
   "execution_count": null,
   "id": "960f51b7",
   "metadata": {},
   "outputs": [],
   "source": [
    "# File paths\n",
    "bron_csv_file = r\"C:\\Users\\nicol\\Documents\\TrafficOntology_Project\\TrafficOntology\\data_processed\\BRON_cleaned\\ongevallen_2022_clean.csv\"\n",
    "gpkg_file = r\"C:\\Users\\nicol\\Documents\\TrafficOntology_Project\\TrafficOntology\\OSM_data_filtered.gpkg\"\n",
    "out_path = r\"C:\\Users\\nicol\\Documents\\TrafficOntology_Project\\TrafficOntology\\data_rdf\\accidents_enriched_with_osm.csv\"\n"
   ]
  },
  {
   "cell_type": "code",
   "execution_count": null,
   "id": "9045847b",
   "metadata": {},
   "outputs": [],
   "source": [
    "# Load BRON accidents for 2022\n",
    "df_bron = pd.read_csv(bron_csv_file)\n",
    "# Drop rows without location or street name\n",
    "df_bron = df_bron.dropna(subset=['longitude', 'latitude', 'straatnaam'])\n",
    "print(f'Loaded {len(df_bron)} accidents with valid locations and street names.')\n"
   ]
  },
  {
   "cell_type": "code",
   "execution_count": null,
   "id": "4cb558a6",
   "metadata": {},
   "outputs": [],
   "source": [
    "# Load OSM road network\n",
    "data_columns = ['osm_id', 'highway', 'name', 'other_tags', 'geometry']\n",
    "gdf_osm_all = gpd.read_file(gpkg_file, layer='lines', columns=data_columns)\n",
    "print(f'Loaded {len(gdf_osm_all)} OSM road segments.')\n"
   ]
  },
  {
   "cell_type": "code",
   "execution_count": null,
   "id": "c1a3276d",
   "metadata": {},
   "outputs": [],
   "source": [
    "# Prepare data: convert to GeoDataFrames and parse tags\n",
    "gdf_bron = gpd.GeoDataFrame(df_bron, geometry=[Point(xy) for xy in zip(df_bron['longitude'], df_bron['latitude'])])\n",
    "gdf_bron.set_crs(epsg=4326, inplace=True)\n",
    "gdf_osm_all = gdf_osm_all.to_crs(epsg=4326)\n",
    "\n",
    "# Parse 'other_tags'\n",
    "parsed_tags = gdf_osm_all['other_tags'].apply(parse_hstore)\n",
    "osm_tags_df = pd.DataFrame.from_records(parsed_tags, index=gdf_osm_all.index)\n",
    "gdf_osm_all = gdf_osm_all.join(osm_tags_df)\n",
    "\n",
    "# Keep selected columns\n",
    "columns_to_keep = ['geometry', 'osm_id', 'name', 'highway', 'maxspeed', 'surface', 'zone:traffic']\n",
    "final_osm_columns = [col for col in columns_to_keep if col in gdf_osm_all.columns]\n",
    "gdf_osm_all = gdf_osm_all[final_osm_columns]\n"
   ]
  },
  {
   "cell_type": "code",
   "execution_count": null,
   "id": "fa632eac",
   "metadata": {},
   "outputs": [],
   "source": [
    "# Match accidents to roads by street name and nearest geometry\n",
    "unique_names = gdf_bron['straatnaam'].unique()\n",
    "matched_data_list = []\n",
    "for name in tqdm(unique_names, desc='Matching streets'):\n",
    "    accidents_on_street = gdf_bron[gdf_bron['straatnaam'] == name]\n",
    "    roads_with_name = gdf_osm_all[gdf_osm_all['name'] == name]\n",
    "    if roads_with_name.empty:\n",
    "        continue\n",
    "    matched = gpd.sjoin_nearest(accidents_on_street, roads_with_name, how='left')\n",
    "    matched_data_list.append(matched)\n",
    "\n",
    "if not matched_data_list:\n",
    "    raise RuntimeError('No matches were found between accidents and roads.')\n",
    "\n",
    "final_matched_gdf = pd.concat(matched_data_list)\n",
    "final_matched_gdf = final_matched_gdf.dropna(subset=['index_right'])\n",
    "final_matched_gdf = final_matched_gdf.rename(columns={'name': 'osm_road_name'})\n",
    "print(f'Successfully matched {len(final_matched_gdf)} out of {len(gdf_bron)} accidents.')\n",
    "final_matched_gdf.head()\n"
   ]
  },
  {
   "cell_type": "code",
   "execution_count": null,
   "id": "3ed9390b",
   "metadata": {},
   "outputs": [],
   "source": [
    "# Save enriched data to CSV\n",
    "final_matched_gdf.to_csv(out_path, index=False)\n",
    "print(f'Saved enriched data to {out_path}')\n"
   ]
  }
 ],
 "metadata": {},
 "nbformat": 4,
 "nbformat_minor": 5
}
